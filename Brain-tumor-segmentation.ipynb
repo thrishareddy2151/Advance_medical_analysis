{
 "cells": [
  {
   "cell_type": "markdown",
   "id": "f120773d",
   "metadata": {
    "papermill": {
     "duration": 0.017979,
     "end_time": "2022-11-06T13:05:42.904068",
     "exception": false,
     "start_time": "2022-11-06T13:05:42.886089",
     "status": "completed"
    },
    "tags": []
   },
   "source": [
    "## Brain tumor segmentation with UNET"
   ]
  },
  {
   "cell_type": "code",
   "execution_count": 1,
   "id": "7e40d898-088e-4f37-b1e7-60ffe8141d99",
   "metadata": {},
   "outputs": [
    {
     "name": "stdout",
     "output_type": "stream",
     "text": [
      "Requirement already satisfied: tensorflow in c:\\python312\\lib\\site-packages (2.19.0)\n",
      "Requirement already satisfied: absl-py>=1.0.0 in c:\\python312\\lib\\site-packages (from tensorflow) (2.3.0)\n",
      "Requirement already satisfied: astunparse>=1.6.0 in c:\\python312\\lib\\site-packages (from tensorflow) (1.6.3)\n",
      "Requirement already satisfied: flatbuffers>=24.3.25 in c:\\python312\\lib\\site-packages (from tensorflow) (25.2.10)\n",
      "Requirement already satisfied: gast!=0.5.0,!=0.5.1,!=0.5.2,>=0.2.1 in c:\\python312\\lib\\site-packages (from tensorflow) (0.6.0)\n",
      "Requirement already satisfied: google-pasta>=0.1.1 in c:\\python312\\lib\\site-packages (from tensorflow) (0.2.0)\n",
      "Requirement already satisfied: libclang>=13.0.0 in c:\\python312\\lib\\site-packages (from tensorflow) (18.1.1)\n",
      "Requirement already satisfied: opt-einsum>=2.3.2 in c:\\python312\\lib\\site-packages (from tensorflow) (3.4.0)\n",
      "Requirement already satisfied: packaging in c:\\python312\\lib\\site-packages (from tensorflow) (25.0)\n",
      "Requirement already satisfied: protobuf!=4.21.0,!=4.21.1,!=4.21.2,!=4.21.3,!=4.21.4,!=4.21.5,<6.0.0dev,>=3.20.3 in c:\\python312\\lib\\site-packages (from tensorflow) (5.29.5)\n",
      "Requirement already satisfied: requests<3,>=2.21.0 in c:\\python312\\lib\\site-packages (from tensorflow) (2.32.3)\n",
      "Requirement already satisfied: setuptools in c:\\python312\\lib\\site-packages (from tensorflow) (79.0.0)\n",
      "Requirement already satisfied: six>=1.12.0 in c:\\python312\\lib\\site-packages (from tensorflow) (1.17.0)\n",
      "Requirement already satisfied: termcolor>=1.1.0 in c:\\python312\\lib\\site-packages (from tensorflow) (3.1.0)\n",
      "Requirement already satisfied: typing-extensions>=3.6.6 in c:\\python312\\lib\\site-packages (from tensorflow) (4.13.2)\n",
      "Requirement already satisfied: wrapt>=1.11.0 in c:\\python312\\lib\\site-packages (from tensorflow) (1.17.2)\n",
      "Requirement already satisfied: grpcio<2.0,>=1.24.3 in c:\\python312\\lib\\site-packages (from tensorflow) (1.72.1)\n",
      "Requirement already satisfied: tensorboard~=2.19.0 in c:\\python312\\lib\\site-packages (from tensorflow) (2.19.0)\n",
      "Requirement already satisfied: keras>=3.5.0 in c:\\python312\\lib\\site-packages (from tensorflow) (3.10.0)\n",
      "Requirement already satisfied: numpy<2.2.0,>=1.26.0 in c:\\python312\\lib\\site-packages (from tensorflow) (2.1.3)\n",
      "Requirement already satisfied: h5py>=3.11.0 in c:\\python312\\lib\\site-packages (from tensorflow) (3.13.0)\n",
      "Requirement already satisfied: ml-dtypes<1.0.0,>=0.5.1 in c:\\python312\\lib\\site-packages (from tensorflow) (0.5.1)\n",
      "Requirement already satisfied: wheel<1.0,>=0.23.0 in c:\\python312\\lib\\site-packages (from astunparse>=1.6.0->tensorflow) (0.45.1)\n",
      "Requirement already satisfied: rich in c:\\python312\\lib\\site-packages (from keras>=3.5.0->tensorflow) (14.0.0)\n",
      "Requirement already satisfied: namex in c:\\python312\\lib\\site-packages (from keras>=3.5.0->tensorflow) (0.1.0)\n",
      "Requirement already satisfied: optree in c:\\python312\\lib\\site-packages (from keras>=3.5.0->tensorflow) (0.16.0)\n",
      "Requirement already satisfied: charset-normalizer<4,>=2 in c:\\python312\\lib\\site-packages (from requests<3,>=2.21.0->tensorflow) (3.4.2)\n",
      "Requirement already satisfied: idna<4,>=2.5 in c:\\python312\\lib\\site-packages (from requests<3,>=2.21.0->tensorflow) (3.10)\n",
      "Requirement already satisfied: urllib3<3,>=1.21.1 in c:\\python312\\lib\\site-packages (from requests<3,>=2.21.0->tensorflow) (2.4.0)\n",
      "Requirement already satisfied: certifi>=2017.4.17 in c:\\python312\\lib\\site-packages (from requests<3,>=2.21.0->tensorflow) (2025.4.26)\n",
      "Requirement already satisfied: markdown>=2.6.8 in c:\\python312\\lib\\site-packages (from tensorboard~=2.19.0->tensorflow) (3.8)\n",
      "Requirement already satisfied: tensorboard-data-server<0.8.0,>=0.7.0 in c:\\python312\\lib\\site-packages (from tensorboard~=2.19.0->tensorflow) (0.7.2)\n",
      "Requirement already satisfied: werkzeug>=1.0.1 in c:\\python312\\lib\\site-packages (from tensorboard~=2.19.0->tensorflow) (3.1.3)\n",
      "Requirement already satisfied: MarkupSafe>=2.1.1 in c:\\python312\\lib\\site-packages (from werkzeug>=1.0.1->tensorboard~=2.19.0->tensorflow) (3.0.2)\n",
      "Requirement already satisfied: markdown-it-py>=2.2.0 in c:\\python312\\lib\\site-packages (from rich->keras>=3.5.0->tensorflow) (3.0.0)\n",
      "Requirement already satisfied: pygments<3.0.0,>=2.13.0 in c:\\python312\\lib\\site-packages (from rich->keras>=3.5.0->tensorflow) (2.19.1)\n",
      "Requirement already satisfied: mdurl~=0.1 in c:\\python312\\lib\\site-packages (from markdown-it-py>=2.2.0->rich->keras>=3.5.0->tensorflow) (0.1.2)\n"
     ]
    },
    {
     "name": "stderr",
     "output_type": "stream",
     "text": [
      "\n",
      "[notice] A new release of pip is available: 25.0.1 -> 25.1.1\n",
      "[notice] To update, run: python.exe -m pip install --upgrade pip\n"
     ]
    }
   ],
   "source": [
    "!pip install tensorflow"
   ]
  },
  {
   "cell_type": "code",
   "execution_count": 2,
   "id": "9884da46",
   "metadata": {
    "papermill": {
     "duration": 5.288196,
     "end_time": "2022-11-06T13:05:48.209576",
     "exception": false,
     "start_time": "2022-11-06T13:05:42.921380",
     "status": "completed"
    },
    "tags": []
   },
   "outputs": [],
   "source": [
    "import os\n",
    "import random\n",
    "import pandas as pd\n",
    "import numpy as np\n",
    "import matplotlib.pyplot as plt\n",
    "%matplotlib inline\n",
    "from mpl_toolkits.axes_grid1 import ImageGrid\n",
    "\n",
    "import cv2\n",
    "from glob import glob\n",
    "\n",
    "import tensorflow as tf\n",
    "from tensorflow.keras import Input\n",
    "from tensorflow.keras.models import Model, load_model, save_model\n",
    "from tensorflow.keras.layers import Input, Activation, BatchNormalization, Dropout, Lambda, Conv2D\n",
    "from tensorflow.keras.layers import Conv2DTranspose, MaxPooling2D, concatenate, AveragePooling2D, Dense, Flatten\n",
    "from tensorflow.keras.optimizers import Adam\n",
    "from tensorflow.keras.callbacks import EarlyStopping, ModelCheckpoint, ReduceLROnPlateau\n",
    "\n",
    "from tensorflow.keras import backend as K\n",
    "from tensorflow.keras.preprocessing.image import ImageDataGenerator"
   ]
  },
  {
   "cell_type": "code",
   "execution_count": 3,
   "id": "48906ef9",
   "metadata": {
    "papermill": {
     "duration": 0.023616,
     "end_time": "2022-11-06T13:05:48.250493",
     "exception": false,
     "start_time": "2022-11-06T13:05:48.226877",
     "status": "completed"
    },
    "tags": []
   },
   "outputs": [],
   "source": [
    "# Set parameters\n",
    "IMAGE_SIZE = (256, 256)"
   ]
  },
  {
   "cell_type": "markdown",
   "id": "bdba24a0",
   "metadata": {
    "papermill": {
     "duration": 0.017041,
     "end_time": "2022-11-06T13:05:48.284410",
     "exception": false,
     "start_time": "2022-11-06T13:05:48.267369",
     "status": "completed"
    },
    "tags": []
   },
   "source": [
    "## Create DataFrame"
   ]
  },
  {
   "cell_type": "code",
   "execution_count": 4,
   "id": "710c76a9",
   "metadata": {
    "papermill": {
     "duration": 28.072718,
     "end_time": "2022-11-06T13:06:16.374405",
     "exception": false,
     "start_time": "2022-11-06T13:05:48.301687",
     "status": "completed"
    },
    "tags": []
   },
   "outputs": [],
   "source": [
    "mask_files = glob('../input/lgg-mri-segmentation/kaggle_3m/*/*_mask*')\n",
    "train_files = [file.replace('_mask', '') for file in mask_files]"
   ]
  },
  {
   "cell_type": "code",
   "execution_count": 5,
   "id": "1a028799",
   "metadata": {
    "papermill": {
     "duration": 28.933479,
     "end_time": "2022-11-06T13:06:45.325389",
     "exception": false,
     "start_time": "2022-11-06T13:06:16.391910",
     "status": "completed"
    },
    "tags": []
   },
   "outputs": [
    {
     "data": {
      "text/html": [
       "<div>\n",
       "<style scoped>\n",
       "    .dataframe tbody tr th:only-of-type {\n",
       "        vertical-align: middle;\n",
       "    }\n",
       "\n",
       "    .dataframe tbody tr th {\n",
       "        vertical-align: top;\n",
       "    }\n",
       "\n",
       "    .dataframe thead th {\n",
       "        text-align: right;\n",
       "    }\n",
       "</style>\n",
       "<table border=\"1\" class=\"dataframe\">\n",
       "  <thead>\n",
       "    <tr style=\"text-align: right;\">\n",
       "      <th></th>\n",
       "      <th>image_path</th>\n",
       "      <th>mask_path</th>\n",
       "      <th>diagnosis</th>\n",
       "    </tr>\n",
       "  </thead>\n",
       "  <tbody>\n",
       "  </tbody>\n",
       "</table>\n",
       "</div>"
      ],
      "text/plain": [
       "Empty DataFrame\n",
       "Columns: [image_path, mask_path, diagnosis]\n",
       "Index: []"
      ]
     },
     "execution_count": 5,
     "metadata": {},
     "output_type": "execute_result"
    }
   ],
   "source": [
    "def diagnosis(mask_path):\n",
    "    value = np.max(cv2.imread(mask_path))\n",
    "    return '1' if value > 0 else '0'\n",
    "df = pd.DataFrame({\"image_path\": train_files,\n",
    "                   \"mask_path\": mask_files,\n",
    "                  \"diagnosis\":[diagnosis(x) for x in mask_files]})\n",
    "df.head()"
   ]
  },
  {
   "cell_type": "code",
   "execution_count": 6,
   "id": "bf400a2b",
   "metadata": {
    "papermill": {
     "duration": 0.20773,
     "end_time": "2022-11-06T13:06:45.551270",
     "exception": false,
     "start_time": "2022-11-06T13:06:45.343540",
     "status": "completed"
    },
    "tags": []
   },
   "outputs": [
    {
     "ename": "IndexError",
     "evalue": "index 0 is out of bounds for axis 0 with size 0",
     "output_type": "error",
     "traceback": [
      "\u001b[31m---------------------------------------------------------------------------\u001b[39m",
      "\u001b[31mIndexError\u001b[39m                                Traceback (most recent call last)",
      "\u001b[36mCell\u001b[39m\u001b[36m \u001b[39m\u001b[32mIn[6]\u001b[39m\u001b[32m, line 1\u001b[39m\n\u001b[32m----> \u001b[39m\u001b[32m1\u001b[39m ax = \u001b[43mdf\u001b[49m\u001b[43m[\u001b[49m\u001b[33;43m'\u001b[39;49m\u001b[33;43mdiagnosis\u001b[39;49m\u001b[33;43m'\u001b[39;49m\u001b[43m]\u001b[49m\u001b[43m.\u001b[49m\u001b[43mvalue_counts\u001b[49m\u001b[43m(\u001b[49m\u001b[43m)\u001b[49m\u001b[43m.\u001b[49m\u001b[43mplot\u001b[49m\u001b[43m(\u001b[49m\u001b[43mkind\u001b[49m\u001b[43m=\u001b[49m\u001b[33;43m'\u001b[39;49m\u001b[33;43mbar\u001b[39;49m\u001b[33;43m'\u001b[39;49m\u001b[43m,\u001b[49m\u001b[43m \u001b[49m\u001b[43mstacked\u001b[49m\u001b[43m=\u001b[49m\u001b[38;5;28;43;01mTrue\u001b[39;49;00m\u001b[43m,\u001b[49m\u001b[43m \u001b[49m\u001b[43mfigsize\u001b[49m\u001b[43m=\u001b[49m\u001b[43m(\u001b[49m\u001b[32;43m10\u001b[39;49m\u001b[43m,\u001b[49m\u001b[32;43m6\u001b[39;49m\u001b[43m)\u001b[49m\u001b[43m,\u001b[49m\u001b[43m \u001b[49m\u001b[43mcolor\u001b[49m\u001b[43m=\u001b[49m\u001b[43m[\u001b[49m\u001b[33;43m'\u001b[39;49m\u001b[33;43mblue\u001b[39;49m\u001b[33;43m'\u001b[39;49m\u001b[43m,\u001b[49m\u001b[43m \u001b[49m\u001b[33;43m'\u001b[39;49m\u001b[33;43mred\u001b[39;49m\u001b[33;43m'\u001b[39;49m\u001b[43m]\u001b[49m\u001b[43m)\u001b[49m\n\u001b[32m      2\u001b[39m ax.set_title(\u001b[33m'\u001b[39m\u001b[33mData Distribution\u001b[39m\u001b[33m'\u001b[39m)\n\u001b[32m      3\u001b[39m ax.set_ylabel(\u001b[33m'\u001b[39m\u001b[33mTotal Images\u001b[39m\u001b[33m'\u001b[39m, fontsize=\u001b[32m15\u001b[39m)\n",
      "\u001b[36mFile \u001b[39m\u001b[32mC:\\Python312\\Lib\\site-packages\\pandas\\plotting\\_core.py:1030\u001b[39m, in \u001b[36mPlotAccessor.__call__\u001b[39m\u001b[34m(self, *args, **kwargs)\u001b[39m\n\u001b[32m   1027\u001b[39m             label_name = label_kw \u001b[38;5;129;01mor\u001b[39;00m data.columns\n\u001b[32m   1028\u001b[39m             data.columns = label_name\n\u001b[32m-> \u001b[39m\u001b[32m1030\u001b[39m \u001b[38;5;28;01mreturn\u001b[39;00m \u001b[43mplot_backend\u001b[49m\u001b[43m.\u001b[49m\u001b[43mplot\u001b[49m\u001b[43m(\u001b[49m\u001b[43mdata\u001b[49m\u001b[43m,\u001b[49m\u001b[43m \u001b[49m\u001b[43mkind\u001b[49m\u001b[43m=\u001b[49m\u001b[43mkind\u001b[49m\u001b[43m,\u001b[49m\u001b[43m \u001b[49m\u001b[43m*\u001b[49m\u001b[43m*\u001b[49m\u001b[43mkwargs\u001b[49m\u001b[43m)\u001b[49m\n",
      "\u001b[36mFile \u001b[39m\u001b[32mC:\\Python312\\Lib\\site-packages\\pandas\\plotting\\_matplotlib\\__init__.py:71\u001b[39m, in \u001b[36mplot\u001b[39m\u001b[34m(data, kind, **kwargs)\u001b[39m\n\u001b[32m     69\u001b[39m         kwargs[\u001b[33m\"\u001b[39m\u001b[33max\u001b[39m\u001b[33m\"\u001b[39m] = \u001b[38;5;28mgetattr\u001b[39m(ax, \u001b[33m\"\u001b[39m\u001b[33mleft_ax\u001b[39m\u001b[33m\"\u001b[39m, ax)\n\u001b[32m     70\u001b[39m plot_obj = PLOT_CLASSES[kind](data, **kwargs)\n\u001b[32m---> \u001b[39m\u001b[32m71\u001b[39m \u001b[43mplot_obj\u001b[49m\u001b[43m.\u001b[49m\u001b[43mgenerate\u001b[49m\u001b[43m(\u001b[49m\u001b[43m)\u001b[49m\n\u001b[32m     72\u001b[39m plot_obj.draw()\n\u001b[32m     73\u001b[39m \u001b[38;5;28;01mreturn\u001b[39;00m plot_obj.result\n",
      "\u001b[36mFile \u001b[39m\u001b[32mC:\\Python312\\Lib\\site-packages\\pandas\\plotting\\_matplotlib\\core.py:508\u001b[39m, in \u001b[36mMPLPlot.generate\u001b[39m\u001b[34m(self)\u001b[39m\n\u001b[32m    506\u001b[39m \u001b[38;5;28;01mfor\u001b[39;00m ax \u001b[38;5;129;01min\u001b[39;00m \u001b[38;5;28mself\u001b[39m.axes:\n\u001b[32m    507\u001b[39m     \u001b[38;5;28mself\u001b[39m._post_plot_logic_common(ax)\n\u001b[32m--> \u001b[39m\u001b[32m508\u001b[39m     \u001b[38;5;28;43mself\u001b[39;49m\u001b[43m.\u001b[49m\u001b[43m_post_plot_logic\u001b[49m\u001b[43m(\u001b[49m\u001b[43max\u001b[49m\u001b[43m,\u001b[49m\u001b[43m \u001b[49m\u001b[38;5;28;43mself\u001b[39;49m\u001b[43m.\u001b[49m\u001b[43mdata\u001b[49m\u001b[43m)\u001b[49m\n",
      "\u001b[36mFile \u001b[39m\u001b[32mC:\\Python312\\Lib\\site-packages\\pandas\\plotting\\_matplotlib\\core.py:1972\u001b[39m, in \u001b[36mBarPlot._post_plot_logic\u001b[39m\u001b[34m(self, ax, data)\u001b[39m\n\u001b[32m   1969\u001b[39m \u001b[38;5;28;01melse\u001b[39;00m:\n\u001b[32m   1970\u001b[39m     str_index = [pprint_thing(key) \u001b[38;5;28;01mfor\u001b[39;00m key \u001b[38;5;129;01min\u001b[39;00m \u001b[38;5;28mrange\u001b[39m(data.shape[\u001b[32m0\u001b[39m])]\n\u001b[32m-> \u001b[39m\u001b[32m1972\u001b[39m s_edge = \u001b[38;5;28;43mself\u001b[39;49m\u001b[43m.\u001b[49m\u001b[43max_pos\u001b[49m\u001b[43m[\u001b[49m\u001b[32;43m0\u001b[39;49m\u001b[43m]\u001b[49m - \u001b[32m0.25\u001b[39m + \u001b[38;5;28mself\u001b[39m.lim_offset\n\u001b[32m   1973\u001b[39m e_edge = \u001b[38;5;28mself\u001b[39m.ax_pos[-\u001b[32m1\u001b[39m] + \u001b[32m0.25\u001b[39m + \u001b[38;5;28mself\u001b[39m.bar_width + \u001b[38;5;28mself\u001b[39m.lim_offset\n\u001b[32m   1975\u001b[39m \u001b[38;5;28mself\u001b[39m._decorate_ticks(ax, \u001b[38;5;28mself\u001b[39m._get_index_name(), str_index, s_edge, e_edge)\n",
      "\u001b[31mIndexError\u001b[39m: index 0 is out of bounds for axis 0 with size 0"
     ]
    },
    {
     "data": {
      "image/png": "[encoded data removed]",
      "text/plain": [
       "<Figure size 1000x600 with 1 Axes>"
      ]
     },
     "metadata": {},
     "output_type": "display_data"
    }
   ],
   "source": [
    "ax = df['diagnosis'].value_counts().plot(kind='bar', stacked=True, figsize=(10,6), color=['blue', 'red'])\n",
    "ax.set_title('Data Distribution')\n",
    "ax.set_ylabel('Total Images', fontsize=15)\n",
    "ax.set_xticklabels(['No Tumor', 'Tumor'], fontsize=12, rotation=0)\n",
    "for i, rows in enumerate(df['diagnosis'].value_counts().values):\n",
    "    ax.annotate(int(rows), xy=(i, rows+12), ha='center', fontweight='bold', fontsize=15)"
   ]
  },
  {
   "cell_type": "markdown",
   "id": "87c3deb1",
   "metadata": {
    "papermill": {
     "duration": 0.018757,
     "end_time": "2022-11-06T13:06:45.588190",
     "exception": false,
     "start_time": "2022-11-06T13:06:45.569433",
     "status": "completed"
    },
    "tags": []
   },
   "source": [
    "### Visualize MRI with Mask"
   ]
  },
  {
   "cell_type": "code",
   "execution_count": null,
   "id": "ab1dece3",
   "metadata": {
    "papermill": {
     "duration": 1.904768,
     "end_time": "2022-11-06T13:06:47.511301",
     "exception": false,
     "start_time": "2022-11-06T13:06:45.606533",
     "status": "completed"
    },
    "tags": []
   },
   "outputs": [],
   "source": [
    "df_positive = df[df['diagnosis']=='1'].sample(5).values\n",
    "df_negative = df[df['diagnosis']=='0'].sample(5).values\n",
    "\n",
    "def show_data(df, positive=True):\n",
    "    images = []\n",
    "    masks = []\n",
    "    for data in df:\n",
    "        img = cv2.imread(data[0])\n",
    "        mask = cv2.imread(data[1])\n",
    "        images.append(img)\n",
    "        masks.append(mask)\n",
    "    images = np.hstack(np.array(images))\n",
    "    masks = np.hstack(np.array(masks))\n",
    "    \n",
    "    fig = plt.figure(figsize=(25,25))\n",
    "    if positive:\n",
    "        grid = ImageGrid(fig, 111, nrows_ncols=(3,1), axes_pad=0.5)\n",
    "    else:\n",
    "        grid = ImageGrid(fig, 111, nrows_ncols=(2,1), axes_pad=0.5)\n",
    "    grid[0].imshow(images)\n",
    "    grid[0].set_title('Images', fontsize=15)\n",
    "    grid[0].axis('off')\n",
    "    grid[1].imshow(masks)\n",
    "    grid[1].set_title('Masks', fontsize=15)\n",
    "    grid[1].axis('off')\n",
    "    if positive:\n",
    "        grid[2].imshow(images)\n",
    "        grid[2].imshow(masks, alpha=0.4)\n",
    "        grid[2].set_title('Brain MRI with mask', fontsize=15)\n",
    "        grid[2].axis('off')\n",
    "        \n",
    "show_data(df_positive)\n",
    "show_data(df_negative, positive=False)"
   ]
  },
  {
   "cell_type": "markdown",
   "id": "a8d5ed18",
   "metadata": {
    "papermill": {
     "duration": 0.051898,
     "end_time": "2022-11-06T13:06:47.617508",
     "exception": false,
     "start_time": "2022-11-06T13:06:47.565610",
     "status": "completed"
    },
    "tags": []
   },
   "source": [
    "### Split data into Train, Validation and Test Set"
   ]
  },
  {
   "cell_type": "code",
   "execution_count": null,
   "id": "9316eee5",
   "metadata": {
    "papermill": {
     "duration": 0.726154,
     "end_time": "2022-11-06T13:06:48.395206",
     "exception": false,
     "start_time": "2022-11-06T13:06:47.669052",
     "status": "completed"
    },
    "tags": []
   },
   "outputs": [],
   "source": [
    "from sklearn.model_selection import train_test_split\n",
    "df_train, df_test = train_test_split(df, test_size=0.15)\n",
    "df_train, df_val = train_test_split(df_train, test_size=0.15)\n",
    "print(df_train.values.shape)\n",
    "print(df_val.values.shape)\n",
    "print(df_test.values.shape)"
   ]
  },
  {
   "cell_type": "markdown",
   "id": "869fe19d",
   "metadata": {
    "papermill": {
     "duration": 0.052859,
     "end_time": "2022-11-06T13:06:48.501349",
     "exception": false,
     "start_time": "2022-11-06T13:06:48.448490",
     "status": "completed"
    },
    "tags": []
   },
   "source": [
    "## U-Net Model"
   ]
  },
  {
   "cell_type": "markdown",
   "id": "c2df1d17",
   "metadata": {
    "papermill": {
     "duration": 0.052401,
     "end_time": "2022-11-06T13:06:48.606036",
     "exception": false,
     "start_time": "2022-11-06T13:06:48.553635",
     "status": "completed"
    },
    "tags": []
   },
   "source": [
    "### Data Generator, Data Augmentation and Adjust Data"
   ]
  },
  {
   "cell_type": "code",
   "execution_count": null,
   "id": "639371b6",
   "metadata": {
    "papermill": {
     "duration": 0.064456,
     "end_time": "2022-11-06T13:06:48.722865",
     "exception": false,
     "start_time": "2022-11-06T13:06:48.658409",
     "status": "completed"
    },
    "tags": []
   },
   "outputs": [],
   "source": [
    "def train_generator(data_frame, batch_size, aug_dict,\n",
    "        image_color_mode=\"rgb\",\n",
    "        mask_color_mode=\"grayscale\",\n",
    "        image_save_prefix=\"image\",\n",
    "        mask_save_prefix=\"mask\",\n",
    "        save_to_dir=None,\n",
    "        target_size=(256,256),\n",
    "        seed=1):\n",
    "\n",
    "    image_datagen = ImageDataGenerator(**aug_dict)\n",
    "    mask_datagen = ImageDataGenerator(**aug_dict)\n",
    "    \n",
    "    image_generator = image_datagen.flow_from_dataframe(\n",
    "        data_frame,\n",
    "        x_col = \"image_path\",\n",
    "        class_mode = None,\n",
    "        color_mode = image_color_mode,\n",
    "        target_size = target_size,\n",
    "        batch_size = batch_size,\n",
    "        save_to_dir = save_to_dir,\n",
    "        save_prefix  = image_save_prefix,\n",
    "        seed = seed)\n",
    "\n",
    "    mask_generator = mask_datagen.flow_from_dataframe(\n",
    "        data_frame,\n",
    "        x_col = \"mask_path\",\n",
    "        class_mode = None,\n",
    "        color_mode = mask_color_mode,\n",
    "        target_size = target_size,\n",
    "        batch_size = batch_size,\n",
    "        save_to_dir = save_to_dir,\n",
    "        save_prefix  = mask_save_prefix,\n",
    "        seed = seed)\n",
    "\n",
    "    train_gen = zip(image_generator, mask_generator)\n",
    "    \n",
    "    for (img, mask) in train_gen:\n",
    "        img, mask = adjust_data(img, mask)\n",
    "        yield (img,mask)\n",
    "\n",
    "def adjust_data(img,mask):\n",
    "    img = img / 255.\n",
    "    mask = mask / 255.\n",
    "    mask[mask > 0.5] = 1\n",
    "    mask[mask <= 0.5] = 0\n",
    "    \n",
    "    return (img, mask)"
   ]
  },
  {
   "cell_type": "code",
   "execution_count": null,
   "id": "d8bec6ab",
   "metadata": {
    "papermill": {
     "duration": 0.061482,
     "end_time": "2022-11-06T13:06:48.835012",
     "exception": false,
     "start_time": "2022-11-06T13:06:48.773530",
     "status": "completed"
    },
    "tags": []
   },
   "outputs": [],
   "source": [
    "smooth=1.\n",
    "\n",
    "def dice_coef(y_true, y_pred):\n",
    "    y_true = K.flatten(y_true)\n",
    "    \n",
    "\n",
    "    y_pred = K.flatten(y_pred)\n",
    "    intersection = K.sum(y_true * y_pred)\n",
    "    union = K.sum(y_true) + K.sum(y_pred)\n",
    "    return (2.0 * intersection + smooth) / (union + smooth)\n",
    "\n",
    "def dice_coef_loss(y_true, y_pred):\n",
    "    return 1 - dice_coef(y_true, y_pred)\n",
    "\n",
    "def bce_dice_loss(y_true, y_pred):\n",
    "    bce = tf.keras.losses.BinaryCrossentropy(from_logits=True)\n",
    "    return dice_coef_loss(y_true, y_pred) + bce(y_true, y_pred)\n",
    "\n",
    "def iou(y_true, y_pred):\n",
    "    intersection = K.sum(y_true * y_pred)\n",
    "    sum_ = K.sum(y_true + y_pred)\n",
    "    jac = (intersection + smooth) / (sum_ - intersection + smooth)\n",
    "    return jac"
   ]
  },
  {
   "cell_type": "code",
   "execution_count": null,
   "id": "fdc22f6a",
   "metadata": {
    "papermill": {
     "duration": 0.073611,
     "end_time": "2022-11-06T13:06:49.168421",
     "exception": false,
     "start_time": "2022-11-06T13:06:49.094810",
     "status": "completed"
    },
    "tags": []
   },
   "outputs": [],
   "source": [
    "def unet(input_size=(256,256,3)):\n",
    "    inputs = Input(input_size)\n",
    "    \n",
    "    conv1 = Conv2D(64, (3, 3), padding='same')(inputs)\n",
    "    bn1 = Activation('relu')(conv1)\n",
    "    conv1 = Conv2D(64, (3, 3), padding='same')(bn1)\n",
    "    bn1 = BatchNormalization(axis=3)(conv1)\n",
    "    bn1 = Activation('relu')(bn1)\n",
    "    pool1 = MaxPooling2D(pool_size=(2, 2))(bn1)\n",
    "\n",
    "    conv2 = Conv2D(128, (3, 3), padding='same')(pool1)\n",
    "    bn2 = Activation('relu')(conv2)\n",
    "    conv2 = Conv2D(128, (3, 3), padding='same')(bn2)\n",
    "    bn2 = BatchNormalization(axis=3)(conv2)\n",
    "    bn2 = Activation('relu')(bn2)\n",
    "    pool2 = MaxPooling2D(pool_size=(2, 2))(bn2)\n",
    "\n",
    "    conv3 = Conv2D(256, (3, 3), padding='same')(pool2)\n",
    "    bn3 = Activation('relu')(conv3)\n",
    "    conv3 = Conv2D(256, (3, 3), padding='same')(bn3)\n",
    "    bn3 = BatchNormalization(axis=3)(conv3)\n",
    "    bn3 = Activation('relu')(bn3)\n",
    "    pool3 = MaxPooling2D(pool_size=(2, 2))(bn3)\n",
    "\n",
    "    conv4 = Conv2D(512, (3, 3), padding='same')(pool3)\n",
    "    bn4 = Activation('relu')(conv4)\n",
    "    conv4 = Conv2D(512, (3, 3), padding='same')(bn4)\n",
    "    bn4 = BatchNormalization(axis=3)(conv4)\n",
    "    bn4 = Activation('relu')(bn4)\n",
    "    pool4 = MaxPooling2D(pool_size=(2, 2))(bn4)\n",
    "\n",
    "    conv5 = Conv2D(1024, (3, 3), padding='same')(pool4)\n",
    "    bn5 = Activation('relu')(conv5)\n",
    "    conv5 = Conv2D(1024, (3, 3), padding='same')(bn5)\n",
    "    bn5 = BatchNormalization(axis=3)(conv5)\n",
    "    bn5 = Activation('relu')(bn5)\n",
    "\n",
    "    up6 = concatenate([Conv2DTranspose(512, (2, 2), strides=(2, 2), padding='same')(bn5), conv4], axis=3)\n",
    "    conv6 = Conv2D(512, (3, 3), padding='same')(up6)\n",
    "    bn6 = Activation('relu')(conv6)\n",
    "    conv6 = Conv2D(512, (3, 3), padding='same')(bn6)\n",
    "    bn6 = BatchNormalization(axis=3)(conv6)\n",
    "    bn6 = Activation('relu')(bn6)\n",
    "\n",
    "    up7 = concatenate([Conv2DTranspose(256, (2, 2), strides=(2, 2), padding='same')(bn6), conv3], axis=3)\n",
    "    conv7 = Conv2D(256, (3, 3), padding='same')(up7)\n",
    "    bn7 = Activation('relu')(conv7)\n",
    "    conv7 = Conv2D(256, (3, 3), padding='same')(bn7)\n",
    "    bn7 = BatchNormalization(axis=3)(conv7)\n",
    "    bn7 = Activation('relu')(bn7)\n",
    "\n",
    "    up8 = concatenate([Conv2DTranspose(128, (2, 2), strides=(2, 2), padding='same')(bn7), conv2], axis=3)\n",
    "    conv8 = Conv2D(128, (3, 3), padding='same')(up8)\n",
    "    bn8 = Activation('relu')(conv8)\n",
    "    conv8 = Conv2D(128, (3, 3), padding='same')(bn8)\n",
    "    bn8 = BatchNormalization(axis=3)(conv8)\n",
    "    bn8 = Activation('relu')(bn8)\n",
    "\n",
    "    up9 = concatenate([Conv2DTranspose(64, (2, 2), strides=(2, 2), padding='same')(bn8), conv1], axis=3)\n",
    "    conv9 = Conv2D(64, (3, 3), padding='same')(up9)\n",
    "    bn9 = Activation('relu')(conv9)\n",
    "    conv9 = Conv2D(64, (3, 3), padding='same')(bn9)\n",
    "    bn9 = BatchNormalization(axis=3)(conv9)\n",
    "    bn9 = Activation('relu')(bn9)\n",
    "\n",
    "    conv10 = Conv2D(1, (1, 1), activation='sigmoid')(bn9)\n",
    "\n",
    "    return Model(inputs=[inputs], outputs=[conv10])"
   ]
  },
  {
   "cell_type": "markdown",
   "id": "d566c620",
   "metadata": {
    "papermill": {
     "duration": 0.051577,
     "end_time": "2022-11-06T13:06:49.271944",
     "exception": false,
     "start_time": "2022-11-06T13:06:49.220367",
     "status": "completed"
    },
    "tags": []
   },
   "source": [
    "## Training"
   ]
  },
  {
   "cell_type": "code",
   "execution_count": null,
   "id": "12d7f5a8",
   "metadata": {
    "papermill": {
     "duration": 0.06018,
     "end_time": "2022-11-06T13:06:49.385342",
     "exception": false,
     "start_time": "2022-11-06T13:06:49.325162",
     "status": "completed"
    },
    "tags": []
   },
   "outputs": [],
   "source": [
    "# Set parameters\n",
    "EPOCHS = 50\n",
    "BATCH_SIZE = 32\n",
    "learning_rate = 1e-4"
   ]
  },
  {
   "cell_type": "code",
   "execution_count": null,
   "id": "fb03145c",
   "metadata": {
    "_kg_hide-output": true,
    "papermill": {
     "duration": 4212.704419,
     "end_time": "2022-11-06T14:17:02.141273",
     "exception": false,
     "start_time": "2022-11-06T13:06:49.436854",
     "status": "completed"
    },
    "tags": []
   },
   "outputs": [],
   "source": [
    "train_generator_args = dict(rotation_range=0.1,\n",
    "                            width_shift_range=0.05,\n",
    "                            height_shift_range=0.05,\n",
    "                            shear_range=0.05,\n",
    "                            zoom_range=0.05,\n",
    "                            horizontal_flip=True,\n",
    "                            vertical_flip=True,\n",
    "                            fill_mode='nearest')\n",
    "train_gen = train_generator(df_train, BATCH_SIZE,\n",
    "                                train_generator_args,\n",
    "                                target_size=IMAGE_SIZE)\n",
    "    \n",
    "val_gen = train_generator(df_val, BATCH_SIZE,\n",
    "                                dict(),\n",
    "                                target_size=IMAGE_SIZE)\n",
    "    \n",
    "model = unet(input_size=(IMAGE_SIZE[0], IMAGE_SIZE[1], 3))\n",
    "\n",
    "\n",
    "\n",
    "opt = Adam(lr=learning_rate, beta_1=0.9, beta_2=0.999, epsilon=None, amsgrad=False)\n",
    "model.compile(optimizer=opt, loss=bce_dice_loss, metrics=[iou, dice_coef])\n",
    "\n",
    "callbacks = [ModelCheckpoint('unet_brainMRI_seg.hdf5', verbose=0, save_best_only=True),\n",
    "            ReduceLROnPlateau(monitor='val_loss', factor=0.1, patience=5, verbose=1, min_lr=1e-11),\n",
    "            EarlyStopping(monitor='val_loss', restore_best_weights=True, patience=15)]\n",
    "\n",
    "history = model.fit(train_gen,\n",
    "                    steps_per_epoch=len(df_train) / BATCH_SIZE, \n",
    "                    epochs=EPOCHS, \n",
    "                    callbacks=callbacks,\n",
    "                    validation_data = val_gen,\n",
    "                    validation_steps=len(df_val) / BATCH_SIZE)"
   ]
  },
  {
   "cell_type": "markdown",
   "id": "901c81f6",
   "metadata": {
    "papermill": {
     "duration": 1.178681,
     "end_time": "2022-11-06T14:17:04.538060",
     "exception": false,
     "start_time": "2022-11-06T14:17:03.359379",
     "status": "completed"
    },
    "tags": []
   },
   "source": [
    "### Visualize the model performance"
   ]
  },
  {
   "cell_type": "code",
   "execution_count": null,
   "id": "d10ffa3c",
   "metadata": {
    "papermill": {
     "duration": 1.760576,
     "end_time": "2022-11-06T14:17:07.478532",
     "exception": false,
     "start_time": "2022-11-06T14:17:05.717956",
     "status": "completed"
    },
    "tags": []
   },
   "outputs": [],
   "source": [
    "plt.figure(figsize=(8,15))\n",
    "plt.subplot(3,1,1)\n",
    "plt.plot(model.history.history['loss'], 'b-', label='train_loss')\n",
    "plt.plot(model.history.history['val_loss'], 'r-', label='val_loss')\n",
    "plt.legend(loc='best')\n",
    "plt.title('Loss')\n",
    "\n",
    "plt.subplot(3,1,2)\n",
    "plt.plot(model.history.history['iou'], 'b-', label='train_iou')\n",
    "plt.plot(model.history.history['val_iou'], 'r-', label='val_iou')\n",
    "plt.legend(loc='best')\n",
    "plt.title('IoU')\n",
    "\n",
    "plt.subplot(3,1,3)\n",
    "plt.plot(model.history.history['dice_coef'], 'b-', label='train_dice_coef')\n",
    "plt.plot(model.history.history['val_dice_coef'], 'r-', label='val_dice_coef')\n",
    "plt.legend(loc='best')\n",
    "plt.title('Dice Coef')"
   ]
  },
  {
   "cell_type": "markdown",
   "id": "b3a485c4",
   "metadata": {
    "papermill": {
     "duration": 1.186175,
     "end_time": "2022-11-06T14:17:09.984073",
     "exception": false,
     "start_time": "2022-11-06T14:17:08.797898",
     "status": "completed"
    },
    "tags": []
   },
   "source": [
    "## Evaluate the model"
   ]
  },
  {
   "cell_type": "code",
   "execution_count": null,
   "id": "9d29f69a",
   "metadata": {
    "papermill": {
     "duration": 13.297018,
     "end_time": "2022-11-06T14:17:24.495013",
     "exception": false,
     "start_time": "2022-11-06T14:17:11.197995",
     "status": "completed"
    },
    "tags": []
   },
   "outputs": [],
   "source": [
    "test_gen = train_generator(df_test, BATCH_SIZE,\n",
    "                                dict(),\n",
    "                                target_size=IMAGE_SIZE)\n",
    "results = model.evaluate(test_gen, steps=len(df_test) / BATCH_SIZE)\n",
    "print(\"Test IOU: \",results[1])\n",
    "print(\"Test Dice Coefficent: \",results[2])"
   ]
  },
  {
   "cell_type": "markdown",
   "id": "1cf1c8ec",
   "metadata": {
    "papermill": {
     "duration": 1.203878,
     "end_time": "2022-11-06T14:17:26.866153",
     "exception": false,
     "start_time": "2022-11-06T14:17:25.662275",
     "status": "completed"
    },
    "tags": []
   },
   "source": [
    "### Visualize the Result"
   ]
  },
  {
   "cell_type": "code",
   "execution_count": null,
   "id": "b55a9c1b",
   "metadata": {
    "papermill": {
     "duration": 14.598525,
     "end_time": "2022-11-06T14:17:42.648566",
     "exception": false,
     "start_time": "2022-11-06T14:17:28.050041",
     "status": "completed"
    },
    "tags": []
   },
   "outputs": [],
   "source": [
    "for i in range(30):\n",
    "    index=np.random.randint(1,len(df_test.index))\n",
    "    img = cv2.imread(df_test['image_path'].iloc[index])\n",
    "    img = cv2.resize(img ,IMAGE_SIZE)\n",
    "    img = img / 255\n",
    "    img = img[np.newaxis, :, :, :]\n",
    "    pred=model.predict(img)\n",
    "\n",
    "    plt.figure(figsize=(12,12))\n",
    "    plt.subplot(1,3,1)\n",
    "    plt.imshow(np.squeeze(img))\n",
    "    plt.title('Original Image')\n",
    "    plt.subplot(1,3,2)\n",
    "    plt.imshow(np.squeeze(cv2.imread(df_test['mask_path'].iloc[index])))\n",
    "    plt.title('Original Mask')\n",
    "    plt.subplot(1,3,3)\n",
    "    plt.imshow(np.squeeze(pred) > .5)\n",
    "    plt.title('Prediction')\n",
    "    plt.show()"
   ]
  },
  {
   "cell_type": "code",
   "execution_count": null,
   "id": "8d819dc4",
   "metadata": {
    "papermill": {
     "duration": 1.274046,
     "end_time": "2022-11-06T14:17:45.216835",
     "exception": false,
     "start_time": "2022-11-06T14:17:43.942789",
     "status": "completed"
    },
    "tags": []
   },
   "outputs": [],
   "source": [
    "pred = np.where(pred > 0.5 , 1 , 0)\n",
    "pred"
   ]
  },
  {
   "cell_type": "code",
   "execution_count": null,
   "id": "0865a44e",
   "metadata": {
    "papermill": {
     "duration": 1.248142,
     "end_time": "2022-11-06T14:17:47.733751",
     "exception": false,
     "start_time": "2022-11-06T14:17:46.485609",
     "status": "completed"
    },
    "tags": []
   },
   "outputs": [],
   "source": [
    "pred = np.squeeze(pred) > .5\n",
    "pred"
   ]
  },
  {
   "cell_type": "code",
   "execution_count": null,
   "id": "4183768a",
   "metadata": {
    "papermill": {
     "duration": 30.677947,
     "end_time": "2022-11-06T14:18:19.687203",
     "exception": false,
     "start_time": "2022-11-06T14:17:49.009256",
     "status": "completed"
    },
    "tags": []
   },
   "outputs": [],
   "source": [
    "cor , incor = 0 , 0\n",
    "for i in range(len(df_test.index)):\n",
    "    index=i\n",
    "    img = cv2.imread(df_test['image_path'].iloc[index])\n",
    "    img = cv2.resize(img ,IMAGE_SIZE)\n",
    "    img = img / 255\n",
    "    img = img[np.newaxis, :, :, :]\n",
    "    pred = (np.squeeze(model.predict(img)) > 0.5)\n",
    "    mask = np.squeeze(cv2.imread(df_test['mask_path'].iloc[index]))\n",
    "    print(f\"Prediction {i}: \" , pred.any() == mask.any())\n",
    "    if pred.any() == mask.any():\n",
    "        cor += 1\n",
    "    else:\n",
    "        incor += 1"
   ]
  },
  {
   "cell_type": "code",
   "execution_count": null,
   "id": "0d7d72c5",
   "metadata": {
    "papermill": {
     "duration": 1.790995,
     "end_time": "2022-11-06T14:18:22.751428",
     "exception": false,
     "start_time": "2022-11-06T14:18:20.960433",
     "status": "completed"
    },
    "tags": []
   },
   "outputs": [],
   "source": [
    "print(\"Correct = \" , cor , \"Incorrect = \" , incor )\n",
    "print(\"Accuracy = \" , (cor/(cor+incor)) * 100)"
   ]
  }
 ],
 "metadata": {
  "kernelspec": {
   "display_name": "Python 3 (ipykernel)",
   "language": "python",
   "name": "python3"
  },
  "language_info": {
   "codemirror_mode": {
    "name": "ipython",
    "version": 3
   },
   "file_extension": ".py",
   "mimetype": "text/x-python",
   "name": "python",
   "nbconvert_exporter": "python",
   "pygments_lexer": "ipython3",
   "version": "3.12.0"
  },
  "papermill": {
   "default_parameters": {},
   "duration": 4370.075772,
   "end_time": "2022-11-06T14:18:26.445540",
   "environment_variables": {},
   "exception": null,
   "input_path": "__notebook__.ipynb",
   "output_path": "__notebook__.ipynb",
   "parameters": {},
   "start_time": "2022-11-06T13:05:36.369768",
   "version": "2.3.3"
  }
 },
 "nbformat": 4,
 "nbformat_minor": 5
}
